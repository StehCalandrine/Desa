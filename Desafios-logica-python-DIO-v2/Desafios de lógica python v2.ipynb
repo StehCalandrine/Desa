{
 "cells": [
  {
   "cell_type": "markdown",
   "id": "911dd063",
   "metadata": {},
   "source": [
    "### Equilibrando Saldo"
   ]
  },
  {
   "cell_type": "code",
   "execution_count": 5,
   "id": "53b52c84",
   "metadata": {},
   "outputs": [
    {
     "name": "stdout",
     "output_type": "stream",
     "text": [
      "100\n",
      "10\n",
      "50\n",
      "Saldo atualizado na conta: 60.0\n"
     ]
    }
   ],
   "source": [
    "saldo_atual = float(input())\n",
    "valor_deposito = float(input())\n",
    "valor_retirada = float(input())\n",
    "\n",
    "saldo_atual += valor_deposito - valor_retirada\n",
    "\n",
    "print(\"Saldo atualizado na conta:\", format(saldo_atual, \".1f\"))"
   ]
  },
  {
   "cell_type": "markdown",
   "id": "a0f3bc4b",
   "metadata": {},
   "source": [
    "### Organizando seus Ativos"
   ]
  },
  {
   "cell_type": "code",
   "execution_count": 6,
   "id": "4cf7cad8",
   "metadata": {},
   "outputs": [
    {
     "name": "stdout",
     "output_type": "stream",
     "text": [
      "3\n",
      "Reservas de liquidez\n",
      "Ativos intangiveis\n",
      "Fundos de investimento\n",
      "Ativos intangiveis\n",
      "Fundos de investimento\n",
      "Reservas de liquidez\n"
     ]
    }
   ],
   "source": [
    "ativos = []\n",
    "\n",
    "quantidadeAtivos = int(input())\n",
    "\n",
    "for _ in range(quantidadeAtivos):\n",
    "    codigoAtivo = input()\n",
    "    ativos.append(codigoAtivo)\n",
    "\n",
    "ativos_ordenados = sorted(ativos)\n",
    "\n",
    "for ativo in ativos_ordenados:\n",
    "    print(ativo)"
   ]
  },
  {
   "cell_type": "markdown",
   "id": "2972d721",
   "metadata": {},
   "source": [
    "### Condicionalmente Rico"
   ]
  },
  {
   "cell_type": "code",
   "execution_count": 7,
   "id": "a451ee8a",
   "metadata": {},
   "outputs": [
    {
     "name": "stdout",
     "output_type": "stream",
     "text": [
      "1000\n",
      "200\n",
      "Saque realizado com sucesso. Novo saldo: 800\n"
     ]
    }
   ],
   "source": [
    "saldo_total = int(input())\n",
    "valor_saque = int(input())\n",
    "\n",
    "if saldo_total >= valor_saque:\n",
    "    novo_saldo = saldo_total - valor_saque\n",
    "    print(f\"Saque realizado com sucesso. Novo saldo: {novo_saldo}\")\n",
    "else:\n",
    "    print(\"Saldo insuficiente. Saque nao realizado!\")"
   ]
  },
  {
   "cell_type": "markdown",
   "id": "415b98df",
   "metadata": {},
   "source": [
    "### Juros Compostos"
   ]
  },
  {
   "cell_type": "code",
   "execution_count": 8,
   "id": "68ffd20a",
   "metadata": {},
   "outputs": [
    {
     "name": "stdout",
     "output_type": "stream",
     "text": [
      "20000\n",
      "0.04\n",
      "10\n",
      "Valor final do investimento: R$ 29604.89\n"
     ]
    }
   ],
   "source": [
    "valor_inicial = float(input())\n",
    "taxa_juros = float(input())\n",
    "periodo = int(input())\n",
    "\n",
    "valor_final = valor_inicial\n",
    "\n",
    "for ano in range(periodo):\n",
    "    valor_final *= (1 + taxa_juros)\n",
    "\n",
    "valor_final = round(valor_final, 2)\n",
    "\n",
    "print(\"Valor final do investimento: R$\", valor_final) "
   ]
  },
  {
   "cell_type": "markdown",
   "id": "b9361401",
   "metadata": {},
   "source": [
    "### O Grande Depósito"
   ]
  },
  {
   "cell_type": "code",
   "execution_count": 12,
   "id": "15ecd8f1",
   "metadata": {},
   "outputs": [
    {
     "name": "stdout",
     "output_type": "stream",
     "text": [
      "-100\n",
      "Valor invalido! Digite um valor maior que zero.\n"
     ]
    }
   ],
   "source": [
    "valor = float(input())\n",
    "\n",
    "if valor > 0:\n",
    "    print(f'Deposito realizado com sucesso! \\n Saldo atual: R$ {valor:.2f}')\n",
    "elif valor == 0:\n",
    "   print('Encerrando o programa...')\n",
    "else: \n",
    "  print('Valor invalido! Digite um valor maior que zero.')"
   ]
  },
  {
   "cell_type": "code",
   "execution_count": null,
   "id": "d457250b",
   "metadata": {},
   "outputs": [],
   "source": []
  },
  {
   "cell_type": "code",
   "execution_count": null,
   "id": "072d1425",
   "metadata": {},
   "outputs": [],
   "source": []
  }
 ],
 "metadata": {
  "kernelspec": {
   "display_name": "Python 3",
   "language": "python",
   "name": "python3"
  },
  "language_info": {
   "codemirror_mode": {
    "name": "ipython",
    "version": 3
   },
   "file_extension": ".py",
   "mimetype": "text/x-python",
   "name": "python",
   "nbconvert_exporter": "python",
   "pygments_lexer": "ipython3",
   "version": "3.8.8"
  }
 },
 "nbformat": 4,
 "nbformat_minor": 5
}
