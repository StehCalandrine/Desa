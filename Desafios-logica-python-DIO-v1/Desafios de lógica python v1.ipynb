{
 "cells": [
  {
   "cell_type": "markdown",
   "id": "911dd063",
   "metadata": {},
   "source": [
    "### Tempo Estimado de Entrega"
   ]
  },
  {
   "cell_type": "code",
   "execution_count": 2,
   "id": "53b52c84",
   "metadata": {},
   "outputs": [
    {
     "name": "stdout",
     "output_type": "stream",
     "text": [
      "Giraffas\n",
      "35\n",
      "O restaurante Giraffas entrega em 35 minutos.\n"
     ]
    }
   ],
   "source": [
    "nomeRestaurante = input()\n",
    "tempoEstimadoEntrega = int(input())\n",
    "\n",
    "mensagem = f\"O restaurante {nomeRestaurante} entrega em {tempoEstimadoEntrega} minutos.\"\n",
    "print(mensagem)"
   ]
  },
  {
   "cell_type": "markdown",
   "id": "a0f3bc4b",
   "metadata": {},
   "source": [
    "### Calcular o Preço Final de um Pedido"
   ]
  },
  {
   "cell_type": "code",
   "execution_count": 4,
   "id": "4cf7cad8",
   "metadata": {},
   "outputs": [
    {
     "name": "stdout",
     "output_type": "stream",
     "text": [
      "8.00\n",
      "1\n",
      "4.00\n",
      "4\n",
      "50.00\n",
      "O preço final do pedido é R$ 24.00. Seu troco é R$ 26.00.\n"
     ]
    }
   ],
   "source": [
    "valorHamburguer = float(input())\n",
    "quantidadeHamburguer = int(input())\n",
    "valorBebida = float(input())\n",
    "quantidadeBebida = int(input())\n",
    "valorPago = float(input())\n",
    "\n",
    "totalHamburguer = valorHamburguer * quantidadeHamburguer\n",
    "totalBebida = valorBebida * quantidadeBebida\n",
    "\n",
    "\n",
    "precoTotal = totalHamburguer + totalBebida\n",
    "\n",
    "troco = valorPago - precoTotal\n",
    "\n",
    "print(f'O preço final do pedido é R$ {precoTotal:.2f}. Seu troco é R$ {troco:.2f}.')"
   ]
  },
  {
   "cell_type": "markdown",
   "id": "2972d721",
   "metadata": {},
   "source": [
    "### Ganhe uma Sobremesa Especial!"
   ]
  },
  {
   "cell_type": "code",
   "execution_count": 5,
   "id": "a451ee8a",
   "metadata": {},
   "outputs": [
    {
     "name": "stdout",
     "output_type": "stream",
     "text": [
      "90\n",
      "Parabens, você ganhou uma sobremesa gratis!\n"
     ]
    }
   ],
   "source": [
    "valorPedido = int(input())\n",
    "\n",
    "if valorPedido >= 50:\n",
    "  print(\"Parabens, você ganhou uma sobremesa gratis!\")\n",
    "else:\n",
    "  print(\"Que pena, você nao ganhou nenhum brinde especial.\")"
   ]
  },
  {
   "cell_type": "markdown",
   "id": "415b98df",
   "metadata": {},
   "source": [
    "### Gerenciamento de Pedidos de Comida Online"
   ]
  },
  {
   "cell_type": "code",
   "execution_count": 9,
   "id": "68ffd20a",
   "metadata": {},
   "outputs": [
    {
     "name": "stdout",
     "output_type": "stream",
     "text": [
      "4\n",
      "Pizza 19.99\n",
      "Salada 29.99\n",
      "Sushi 61.00\n",
      "Pudim 10.00\n",
      "20%\n",
      "Valor total: 96.78\n"
     ]
    }
   ],
   "source": [
    "def main():\n",
    "    n = int(input(\"\"))\n",
    " \n",
    "    total = 0\n",
    " \n",
    "    for i in range(1, n + 1):\n",
    "        pedido = input().split(\" \")\n",
    "        nome = pedido[0]\n",
    "        valor = float(pedido[1])\n",
    "        total += valor\n",
    "\n",
    "    cupom = input().strip()\n",
    "    if cupom == \"10%\":\n",
    "        total *= 0.9\n",
    "    elif cupom == \"20%\":\n",
    "        total *= 0.8 \n",
    "\n",
    "    print(f\"Valor total: {total:.2f}\")\n",
    " \n",
    "if __name__ == \"__main__\":\n",
    "    main()"
   ]
  },
  {
   "cell_type": "markdown",
   "id": "b9361401",
   "metadata": {},
   "source": [
    "### Identificando Pedidos Veganos"
   ]
  },
  {
   "cell_type": "code",
   "execution_count": null,
   "id": "15ecd8f1",
   "metadata": {},
   "outputs": [
    {
     "name": "stdout",
     "output_type": "stream",
     "text": [
      "2\n",
      "Hamburguer de lentilha\n",
      "300\n",
      "s\n",
      "Pedido 1: Hamburguer de lentilha (Vegano) - 300 calorias\n"
     ]
    }
   ],
   "source": [
    "numPedidos = int(input())\n",
    "\n",
    "for i in range(1, numPedidos + 1):\n",
    "    prato = input()\n",
    "    calorias = int(input())\n",
    "    ehVegano = input()\n",
    "    \n",
    "    if ehVegano == \"s\":\n",
    "        print(f\"Pedido {i}: {prato} (Vegano) - {calorias} calorias\")\n",
    "    elif ehVegano == \"n\":\n",
    "        print(f\"Pedido {i}: {prato} (Nao-vegano) - {calorias} calorias\")"
   ]
  },
  {
   "cell_type": "code",
   "execution_count": null,
   "id": "d457250b",
   "metadata": {},
   "outputs": [],
   "source": []
  }
 ],
 "metadata": {
  "kernelspec": {
   "display_name": "Python 3 (ipykernel)",
   "language": "python",
   "name": "python3"
  },
  "language_info": {
   "codemirror_mode": {
    "name": "ipython",
    "version": 3
   },
   "file_extension": ".py",
   "mimetype": "text/x-python",
   "name": "python",
   "nbconvert_exporter": "python",
   "pygments_lexer": "ipython3",
   "version": "3.11.4"
  }
 },
 "nbformat": 4,
 "nbformat_minor": 5
}
